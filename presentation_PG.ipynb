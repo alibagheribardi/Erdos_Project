{
  "nbformat": 4,
  "nbformat_minor": 0,
  "metadata": {
    "colab": {
      "provenance": [],
      "authorship_tag": "ABX9TyPuMRCPOTJaxNGxrc71y4dj",
      "include_colab_link": true
    },
    "kernelspec": {
      "name": "python3",
      "display_name": "Python 3"
    },
    "language_info": {
      "name": "python"
    }
  },
  "cells": [
    {
      "cell_type": "markdown",
      "metadata": {
        "id": "view-in-github",
        "colab_type": "text"
      },
      "source": [
        "<a href=\"https://colab.research.google.com/github/alibagheribardi/Erdos_Project/blob/main/presentation_PG.ipynb\" target=\"_parent\"><img src=\"https://colab.research.google.com/assets/colab-badge.svg\" alt=\"Open In Colab\"/></a>"
      ]
    },
    {
      "cell_type": "markdown",
      "source": [
        "Let $L \\in \\mathbb{R}^{N \\times N}$ be the combinatorial Laplacian matrix of a 1D path graph with Neumann (reflecting) boundary conditions. Then $L$ has the form:\n",
        "\n",
        "$$\n",
        "L = \\begin{bmatrix}\n",
        "1 & -1 & 0 & \\cdots & 0 \\\\\n",
        "-1 & 2 & -1 & \\cdots & 0 \\\\\n",
        "0 & -1 & 2 & \\cdots & 0 \\\\\n",
        "\\vdots & \\vdots & \\vdots & \\ddots & -1 \\\\\n",
        "0 & 0 & 0 & -1 & 1\n",
        "\\end{bmatrix}\n",
        "$$\n",
        "\n",
        "Define the matrix $V \\in \\mathbb{R}^{N \\times N}$ whose columns are the orthonormal DCT-II basis vectors:\n",
        "\n",
        "$$\n",
        "V_{j,k} = \\sqrt{\\frac{2 - \\delta_{k,0}}{N}} \\cos\\left( \\frac{\\pi (j + \\tfrac{1}{2}) k}{N} \\right), \\quad 0 \\leq j,k < N\n",
        "$$\n",
        "\n",
        "This matrix $V$ is orthogonal: $V^\\top V = I$.\n",
        "\n",
        "Now compute the matrix $\\Lambda$ defined by:\n",
        "\n",
        "$$\n",
        "\\Lambda = V^\\top L V\n",
        "$$\n",
        "\n",
        "Since $V$ is composed of the eigenvectors of $L$, this diagonalizes $L$:\n",
        "\n",
        "$$\n",
        "L = V \\Lambda V^\\top\n",
        "$$\n",
        "\n",
        "The eigenvalues are given analytically by:\n",
        "\n",
        "$$\n",
        "\\lambda_k = 2 \\left( 1 - \\cos\\left( \\frac{\\pi k}{N} \\right) \\right), \\quad 0 \\leq k < N\n",
        "$$\n",
        "\n",
        "Thus, the DCT-II basis diagonalizes the Laplacian matrix of a path graph with Neumann boundary conditions, and the eigenvalues correspond to the frequency modes of a cosine signal on the graph.\n",
        "\n"
      ],
      "metadata": {
        "id": "wT27yjJZD-Wp"
      }
    },
    {
      "cell_type": "markdown",
      "source": [],
      "metadata": {
        "id": "Dssm_UdED5Mi"
      }
    },
    {
      "cell_type": "markdown",
      "source": [],
      "metadata": {
        "id": "Q1Zmd_hUD5Ng"
      }
    },
    {
      "cell_type": "code",
      "source": [
        "import numpy as np\n",
        "from scipy.fft import dct\n",
        "import matplotlib.pyplot as plt\n",
        "\n",
        "# Set the size of the graph\n",
        "N = 8\n",
        "\n",
        "# Build Laplacian for path graph with Neumann boundary conditions\n",
        "L = np.zeros((N, N))\n",
        "for i in range(N):\n",
        "    if i > 0:\n",
        "        L[i, i-1] = -1\n",
        "    if i < N - 1:\n",
        "        L[i, i+1] = -1\n",
        "    if i == 0 or i == N - 1:\n",
        "        L[i, i] = 1\n",
        "    else:\n",
        "        L[i, i] = 2\n",
        "\n",
        "# Construct DCT-II matrix manually (orthonormal basis)\n",
        "V = np.zeros((N, N))\n",
        "for j in range(N):\n",
        "    for k in range(N):\n",
        "        delta = 1 if k == 0 else 0\n",
        "        norm_factor = np.sqrt((2 - delta) / N)\n",
        "        V[j, k] = norm_factor * np.cos(np.pi * (j + 0.5) * k / N)\n",
        "\n",
        "# Diagonalize the Laplacian\n",
        "Lambda = V.T @ L @ V\n",
        "\n",
        "# Reconstruct L from its eigen-decomposition\n",
        "L_reconstructed = V @ Lambda @ V.T\n",
        "check = np.round(L - L_reconstructed, 2)\n",
        "\n",
        "# Output\n",
        "print(\"Reconstruction error:\", np.linalg.norm(check))\n",
        "print(\"Conclusion: DCT-II matrix V with entries:\")\n",
        "print(\"  V[j, k] = sqrt((2 - δ_{k,0}) / N) * cos(π * (j + 0.5) * k / N)\")\n",
        "print(\"diagonalizes the Laplacian L:  L = V @ Λ @ V.T\")\n",
        "\n",
        "# Optional: visualize the eigenvalues\n",
        "# plt.stem(np.diag(Lambda))\n",
        "# plt.title(\"Eigenvalues from DCT-II basis (should be non-negative)\")\n",
        "# plt.xlabel(\"k\")\n",
        "# plt.ylabel(\"λ_k\")\n",
        "# plt.grid(True)\n",
        "# plt.show()\n"
      ],
      "metadata": {
        "colab": {
          "base_uri": "https://localhost:8080/"
        },
        "id": "Tjp3JmPtD0Ba",
        "outputId": "0a5144d2-bbc2-46e3-ffb4-ef685396f17f"
      },
      "execution_count": 10,
      "outputs": [
        {
          "output_type": "stream",
          "name": "stdout",
          "text": [
            "Reconstruction error: 0.0\n",
            "Conclusion: DCT-II matrix V with entries:\n",
            "  V[j, k] = sqrt((2 - δ_{k,0}) / N) * cos(π * (j + 0.5) * k / N)\n",
            "diagonalizes the Laplacian L:  L = V @ Λ @ V.T\n"
          ]
        }
      ]
    }
  ]
}