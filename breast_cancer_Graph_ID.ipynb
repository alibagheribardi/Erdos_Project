{
  "nbformat": 4,
  "nbformat_minor": 0,
  "metadata": {
    "colab": {
      "provenance": [],
      "authorship_tag": "ABX9TyPFHEUXPXvncxaSYff4MB2K",
      "include_colab_link": true
    },
    "kernelspec": {
      "name": "python3",
      "display_name": "Python 3"
    },
    "language_info": {
      "name": "python"
    }
  },
  "cells": [
    {
      "cell_type": "markdown",
      "metadata": {
        "id": "view-in-github",
        "colab_type": "text"
      },
      "source": [
        "<a href=\"https://colab.research.google.com/github/alibagheribardi/Erdos_Project/blob/main/breast_cancer_Graph_ID.ipynb\" target=\"_parent\"><img src=\"https://colab.research.google.com/assets/colab-badge.svg\" alt=\"Open In Colab\"/></a>"
      ]
    },
    {
      "cell_type": "code",
      "execution_count": null,
      "metadata": {
        "id": "HcvD6cSz-btp"
      },
      "outputs": [],
      "source": [
        "from sklearn.datasets import load_breast_cancer\n",
        "import numpy as np\n",
        "import pandas as pd\n",
        "import seaborn as sns\n",
        "import matplotlib.pyplot as plt\n",
        "\n",
        "# Example usage with Breast Cancer dataset\n",
        "breast_cancer = load_breast_cancer()\n",
        "df = pd.DataFrame(breast_cancer.data, columns=breast_cancer.feature_names)\n",
        "df['target'] = breast_cancer.target  # Add target column\n",
        "\n",
        "df, main_adj_matrix, modified_label_matrix = process_data(df)\n",
        "\n",
        "# Plot adjacency matrices\n",
        "fig, ax = plt.subplots(1, 2, figsize=(15, 4))\n",
        "\n",
        "sns.heatmap(main_adj_matrix, cbar=True, ax=ax[0])\n",
        "ax[0].set_title(\"Breast Cancer Sample Adjacency Matrix\")\n",
        "\n",
        "sns.heatmap(modified_label_matrix, cbar=True, ax=ax[1])\n",
        "ax[1].set_title(\"Breast Cancer Sample Label Similarity Matrix\")\n",
        "\n",
        "plt.tight_layout()\n",
        "plt.show()\n"
      ]
    },
    {
      "cell_type": "code",
      "source": [
        "_, sigma, _ = np.linalg.svd(main_adj_matrix)\n",
        "\n",
        "# Plot singular values\n",
        "plt.figure(figsize=(8, 5))\n",
        "plt.scatter(np.arange(len(sigma)), sigma, color='b', label='Singular Values')\n",
        "plt.xlabel(\"Index\")\n",
        "plt.ylabel(\"Singular Value\")\n",
        "plt.title(\"Singular Values of the Adjacency Matrix\")\n",
        "plt.legend()\n",
        "plt.grid(True, which=\"both\", linestyle=\"--\", linewidth=0.5)\n",
        "plt.show()"
      ],
      "metadata": {
        "id": "Q-OLTMx_-i4-"
      },
      "execution_count": null,
      "outputs": []
    }
  ]
}