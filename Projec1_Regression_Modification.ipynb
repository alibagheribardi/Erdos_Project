{
  "nbformat": 4,
  "nbformat_minor": 0,
  "metadata": {
    "colab": {
      "provenance": [],
      "authorship_tag": "ABX9TyP/o//eN1AqUkWrb6Yit8WK",
      "include_colab_link": true
    },
    "kernelspec": {
      "name": "python3",
      "display_name": "Python 3"
    },
    "language_info": {
      "name": "python"
    }
  },
  "cells": [
    {
      "cell_type": "markdown",
      "metadata": {
        "id": "view-in-github",
        "colab_type": "text"
      },
      "source": [
        "<a href=\"https://colab.research.google.com/github/alibagheribardi/Erdos_Project/blob/main/Projec1_Regression_Modification.ipynb\" target=\"_parent\"><img src=\"https://colab.research.google.com/assets/colab-badge.svg\" alt=\"Open In Colab\"/></a>"
      ]
    },
    {
      "cell_type": "code",
      "source": [
        "import pandas as pd\n",
        "import matplotlib.pyplot as plt\n",
        "import seaborn as sns\n",
        "import numpy as np\n",
        "from sklearn.neighbors import KNeighborsRegressor\n",
        "from sklearn.datasets import load_iris\n",
        "\n",
        "def features_prioritization(X, y, features):\n",
        "    features_scores = []\n",
        "    knn_reg = KNeighborsRegressor()\n",
        "\n",
        "    for feature in features:\n",
        "        X_feature = X[[feature]]  # Ensure 2D\n",
        "        knn_reg.fit(X_feature, y)\n",
        "        r2 = knn_reg.score(X_feature, y)\n",
        "        features_scores.append((feature, r2))\n",
        "\n",
        "    df_scores = pd.DataFrame(features_scores, columns=['Feature', 'R2_Score']).sort_values(by='R2_Score', ascending=False)\n",
        "    return df_scores\n",
        "\n"
      ],
      "metadata": {
        "id": "-7B0Zw2Fa237"
      },
      "execution_count": 39,
      "outputs": []
    },
    {
      "cell_type": "code",
      "source": [
        "# Load iris dataset\n",
        "iris = load_iris()\n",
        "X_iris = pd.DataFrame(iris.data, columns=iris.feature_names)  # Convert to DataFrame\n",
        "y_iris = iris.target\n",
        "iris_features = iris.feature_names\n",
        "\n",
        "# Run feature prioritization\n",
        "iris_scores = features_prioritization(X_iris, y_iris, iris_features)\n",
        "print(iris_scores)\n"
      ],
      "metadata": {
        "id": "Z7muvVzxkWBc",
        "outputId": "80a367b6-a518-4e49-800d-599e67ce238f",
        "colab": {
          "base_uri": "https://localhost:8080/"
        }
      },
      "execution_count": 40,
      "outputs": [
        {
          "output_type": "stream",
          "name": "stdout",
          "text": [
            "             Feature  R2_Score\n",
            "2  petal length (cm)    0.9496\n",
            "3   petal width (cm)    0.9464\n",
            "0  sepal length (cm)    0.6916\n",
            "1   sepal width (cm)   -0.1940\n"
          ]
        }
      ]
    }
  ]
}